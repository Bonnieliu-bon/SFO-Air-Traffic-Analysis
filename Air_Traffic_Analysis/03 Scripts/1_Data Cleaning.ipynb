{
 "cells": [
  {
   "cell_type": "markdown",
   "id": "d3709526",
   "metadata": {},
   "source": [
    "## Table of Contents\n",
    "\n",
    "**1. Import Libraries**\n",
    "\n",
    "**2. Create a Path**\n",
    "\n",
    "**3. Import Data**\n",
    "\n",
    "**4. Understand Data**\n",
    "\n",
    "**5. Data Consistency Check and Data Cleaning**\n",
    "\n",
    "**6. Export Cleaned Data**"
   ]
  },
  {
   "cell_type": "markdown",
   "id": "2b0e3084-7f66-4ce2-89d4-84a188eb0dd0",
   "metadata": {},
   "source": [
    "### 1. Import Libraries"
   ]
  },
  {
   "cell_type": "code",
   "execution_count": 1,
   "id": "1203c840",
   "metadata": {},
   "outputs": [],
   "source": [
    "# Import libraries\n",
    "import pandas as pd\n",
    "import os as os"
   ]
  },
  {
   "cell_type": "markdown",
   "id": "ce3ff1b1-cf15-4da0-b7c1-c265beebea09",
   "metadata": {},
   "source": [
    "### 2. Create a Path"
   ]
  },
  {
   "cell_type": "code",
   "execution_count": 2,
   "id": "b24a7cde-9632-4c08-9b75-a993180433d9",
   "metadata": {},
   "outputs": [],
   "source": [
    "# Create a data path\n",
    "path = r'/Users/bonnieandbanana/Desktop/A New Career/CareerFoundry/Data Immersion/A6_Advanced Analytics : Dashboard /Air_Pax_Traffic_Analysis'"
   ]
  },
  {
   "cell_type": "markdown",
   "id": "2dce4fe2-12e1-4e9e-88a0-020d54354bdb",
   "metadata": {},
   "source": [
    "### 3. Import Data"
   ]
  },
  {
   "cell_type": "code",
   "execution_count": 3,
   "id": "48b73aba",
   "metadata": {},
   "outputs": [],
   "source": [
    "# Import data\n",
    "df = pd.read_csv(os.path.join(path,'02 Data','Original Data','Air_Traffic_Passenger_Statistics.csv'), index_col = False)"
   ]
  },
  {
   "cell_type": "markdown",
   "id": "4d834604-2867-49cf-a5d0-78d77a795fc6",
   "metadata": {},
   "source": [
    "### 4. Understand Data"
   ]
  },
  {
   "cell_type": "code",
   "execution_count": 4,
   "id": "3be8f0ee",
   "metadata": {},
   "outputs": [
    {
     "data": {
      "text/plain": [
       "['index',\n",
       " 'Activity Period',\n",
       " 'Operating Airline',\n",
       " 'Operating Airline IATA Code',\n",
       " 'Published Airline',\n",
       " 'Published Airline IATA Code',\n",
       " 'GEO Summary',\n",
       " 'GEO Region',\n",
       " 'Activity Type Code',\n",
       " 'Price Category Code',\n",
       " 'Terminal',\n",
       " 'Boarding Area',\n",
       " 'Passenger Count',\n",
       " 'Adjusted Activity Type Code',\n",
       " 'Adjusted Passenger Count',\n",
       " 'Year',\n",
       " 'Month']"
      ]
     },
     "execution_count": 4,
     "metadata": {},
     "output_type": "execute_result"
    }
   ],
   "source": [
    "# Understand columns\n",
    "df.columns.tolist()"
   ]
  },
  {
   "cell_type": "code",
   "execution_count": 5,
   "id": "b319f32c",
   "metadata": {},
   "outputs": [
    {
     "data": {
      "text/plain": [
       "(15007, 17)"
      ]
     },
     "execution_count": 5,
     "metadata": {},
     "output_type": "execute_result"
    }
   ],
   "source": [
    "# Check data shape\n",
    "df.shape"
   ]
  },
  {
   "cell_type": "code",
   "execution_count": 6,
   "id": "bfd01301",
   "metadata": {},
   "outputs": [
    {
     "data": {
      "text/plain": [
       "index                           int64\n",
       "Activity Period                 int64\n",
       "Operating Airline              object\n",
       "Operating Airline IATA Code    object\n",
       "Published Airline              object\n",
       "Published Airline IATA Code    object\n",
       "GEO Summary                    object\n",
       "GEO Region                     object\n",
       "Activity Type Code             object\n",
       "Price Category Code            object\n",
       "Terminal                       object\n",
       "Boarding Area                  object\n",
       "Passenger Count                 int64\n",
       "Adjusted Activity Type Code    object\n",
       "Adjusted Passenger Count        int64\n",
       "Year                            int64\n",
       "Month                          object\n",
       "dtype: object"
      ]
     },
     "execution_count": 6,
     "metadata": {},
     "output_type": "execute_result"
    }
   ],
   "source": [
    "# Check data types\n",
    "df.dtypes"
   ]
  },
  {
   "cell_type": "code",
   "execution_count": 7,
   "id": "6f072bbe",
   "metadata": {},
   "outputs": [
    {
     "name": "stdout",
     "output_type": "stream",
     "text": [
      "<class 'pandas.core.frame.DataFrame'>\n",
      "RangeIndex: 15007 entries, 0 to 15006\n",
      "Data columns (total 17 columns):\n",
      " #   Column                       Non-Null Count  Dtype \n",
      "---  ------                       --------------  ----- \n",
      " 0   index                        15007 non-null  int64 \n",
      " 1   Activity Period              15007 non-null  int64 \n",
      " 2   Operating Airline            15007 non-null  object\n",
      " 3   Operating Airline IATA Code  14953 non-null  object\n",
      " 4   Published Airline            15007 non-null  object\n",
      " 5   Published Airline IATA Code  14953 non-null  object\n",
      " 6   GEO Summary                  15007 non-null  object\n",
      " 7   GEO Region                   15007 non-null  object\n",
      " 8   Activity Type Code           15007 non-null  object\n",
      " 9   Price Category Code          15007 non-null  object\n",
      " 10  Terminal                     15007 non-null  object\n",
      " 11  Boarding Area                15007 non-null  object\n",
      " 12  Passenger Count              15007 non-null  int64 \n",
      " 13  Adjusted Activity Type Code  15007 non-null  object\n",
      " 14  Adjusted Passenger Count     15007 non-null  int64 \n",
      " 15  Year                         15007 non-null  int64 \n",
      " 16  Month                        15007 non-null  object\n",
      "dtypes: int64(5), object(12)\n",
      "memory usage: 1.9+ MB\n"
     ]
    }
   ],
   "source": [
    "# Check data information\n",
    "df.info()"
   ]
  },
  {
   "cell_type": "code",
   "execution_count": 8,
   "id": "ac6034dc",
   "metadata": {
    "scrolled": true
   },
   "outputs": [
    {
     "data": {
      "text/html": [
       "<div>\n",
       "<style scoped>\n",
       "    .dataframe tbody tr th:only-of-type {\n",
       "        vertical-align: middle;\n",
       "    }\n",
       "\n",
       "    .dataframe tbody tr th {\n",
       "        vertical-align: top;\n",
       "    }\n",
       "\n",
       "    .dataframe thead th {\n",
       "        text-align: right;\n",
       "    }\n",
       "</style>\n",
       "<table border=\"1\" class=\"dataframe\">\n",
       "  <thead>\n",
       "    <tr style=\"text-align: right;\">\n",
       "      <th></th>\n",
       "      <th>index</th>\n",
       "      <th>Activity Period</th>\n",
       "      <th>Passenger Count</th>\n",
       "      <th>Adjusted Passenger Count</th>\n",
       "      <th>Year</th>\n",
       "    </tr>\n",
       "  </thead>\n",
       "  <tbody>\n",
       "    <tr>\n",
       "      <th>count</th>\n",
       "      <td>15007.00000</td>\n",
       "      <td>15007.000000</td>\n",
       "      <td>15007.000000</td>\n",
       "      <td>15007.000000</td>\n",
       "      <td>15007.000000</td>\n",
       "    </tr>\n",
       "    <tr>\n",
       "      <th>mean</th>\n",
       "      <td>7503.00000</td>\n",
       "      <td>201045.073366</td>\n",
       "      <td>29240.521090</td>\n",
       "      <td>29331.917105</td>\n",
       "      <td>2010.385220</td>\n",
       "    </tr>\n",
       "    <tr>\n",
       "      <th>std</th>\n",
       "      <td>4332.29208</td>\n",
       "      <td>313.336196</td>\n",
       "      <td>58319.509284</td>\n",
       "      <td>58284.182219</td>\n",
       "      <td>3.137589</td>\n",
       "    </tr>\n",
       "    <tr>\n",
       "      <th>min</th>\n",
       "      <td>0.00000</td>\n",
       "      <td>200507.000000</td>\n",
       "      <td>1.000000</td>\n",
       "      <td>1.000000</td>\n",
       "      <td>2005.000000</td>\n",
       "    </tr>\n",
       "    <tr>\n",
       "      <th>25%</th>\n",
       "      <td>3751.50000</td>\n",
       "      <td>200803.000000</td>\n",
       "      <td>5373.500000</td>\n",
       "      <td>5495.500000</td>\n",
       "      <td>2008.000000</td>\n",
       "    </tr>\n",
       "    <tr>\n",
       "      <th>50%</th>\n",
       "      <td>7503.00000</td>\n",
       "      <td>201011.000000</td>\n",
       "      <td>9210.000000</td>\n",
       "      <td>9354.000000</td>\n",
       "      <td>2010.000000</td>\n",
       "    </tr>\n",
       "    <tr>\n",
       "      <th>75%</th>\n",
       "      <td>11254.50000</td>\n",
       "      <td>201308.000000</td>\n",
       "      <td>21158.500000</td>\n",
       "      <td>21182.000000</td>\n",
       "      <td>2013.000000</td>\n",
       "    </tr>\n",
       "    <tr>\n",
       "      <th>max</th>\n",
       "      <td>15006.00000</td>\n",
       "      <td>201603.000000</td>\n",
       "      <td>659837.000000</td>\n",
       "      <td>659837.000000</td>\n",
       "      <td>2016.000000</td>\n",
       "    </tr>\n",
       "  </tbody>\n",
       "</table>\n",
       "</div>"
      ],
      "text/plain": [
       "             index  Activity Period  Passenger Count  \\\n",
       "count  15007.00000     15007.000000     15007.000000   \n",
       "mean    7503.00000    201045.073366     29240.521090   \n",
       "std     4332.29208       313.336196     58319.509284   \n",
       "min        0.00000    200507.000000         1.000000   \n",
       "25%     3751.50000    200803.000000      5373.500000   \n",
       "50%     7503.00000    201011.000000      9210.000000   \n",
       "75%    11254.50000    201308.000000     21158.500000   \n",
       "max    15006.00000    201603.000000    659837.000000   \n",
       "\n",
       "       Adjusted Passenger Count          Year  \n",
       "count              15007.000000  15007.000000  \n",
       "mean               29331.917105   2010.385220  \n",
       "std                58284.182219      3.137589  \n",
       "min                    1.000000   2005.000000  \n",
       "25%                 5495.500000   2008.000000  \n",
       "50%                 9354.000000   2010.000000  \n",
       "75%                21182.000000   2013.000000  \n",
       "max               659837.000000   2016.000000  "
      ]
     },
     "execution_count": 8,
     "metadata": {},
     "output_type": "execute_result"
    }
   ],
   "source": [
    "# Understand data statistics\n",
    "df.describe()"
   ]
  },
  {
   "cell_type": "markdown",
   "id": "b8abd5b5-43ba-422e-938e-e14243839e7f",
   "metadata": {},
   "source": [
    "### 5. Data Consistency Check and Data Cleaning"
   ]
  },
  {
   "cell_type": "code",
   "execution_count": 9,
   "id": "5c1b23b2",
   "metadata": {},
   "outputs": [
    {
     "data": {
      "text/plain": [
       "index                           0\n",
       "Activity Period                 0\n",
       "Operating Airline               0\n",
       "Operating Airline IATA Code    54\n",
       "Published Airline               0\n",
       "Published Airline IATA Code    54\n",
       "GEO Summary                     0\n",
       "GEO Region                      0\n",
       "Activity Type Code              0\n",
       "Price Category Code             0\n",
       "Terminal                        0\n",
       "Boarding Area                   0\n",
       "Passenger Count                 0\n",
       "Adjusted Activity Type Code     0\n",
       "Adjusted Passenger Count        0\n",
       "Year                            0\n",
       "Month                           0\n",
       "dtype: int64"
      ]
     },
     "execution_count": 9,
     "metadata": {},
     "output_type": "execute_result"
    }
   ],
   "source": [
    "# Check for null values\n",
    "df.isnull().sum()"
   ]
  },
  {
   "cell_type": "code",
   "execution_count": 10,
   "id": "d54f1ef8-e430-41b1-a8ea-f4250d291993",
   "metadata": {},
   "outputs": [],
   "source": [
    "# Remove rows with null values in these columns\n",
    "df = df.dropna(subset=['Operating Airline IATA Code', 'Published Airline IATA Code'])"
   ]
  },
  {
   "cell_type": "code",
   "execution_count": 11,
   "id": "62403fc8-aa14-4e06-9e38-2311e8a06599",
   "metadata": {},
   "outputs": [
    {
     "data": {
      "text/plain": [
       "index                          0\n",
       "Activity Period                0\n",
       "Operating Airline              0\n",
       "Operating Airline IATA Code    0\n",
       "Published Airline              0\n",
       "Published Airline IATA Code    0\n",
       "GEO Summary                    0\n",
       "GEO Region                     0\n",
       "Activity Type Code             0\n",
       "Price Category Code            0\n",
       "Terminal                       0\n",
       "Boarding Area                  0\n",
       "Passenger Count                0\n",
       "Adjusted Activity Type Code    0\n",
       "Adjusted Passenger Count       0\n",
       "Year                           0\n",
       "Month                          0\n",
       "dtype: int64"
      ]
     },
     "execution_count": 11,
     "metadata": {},
     "output_type": "execute_result"
    }
   ],
   "source": [
    "# Examine result\n",
    "df.isnull().sum()"
   ]
  },
  {
   "cell_type": "code",
   "execution_count": 12,
   "id": "5c7e6641-0659-40d6-8d92-491dca8df883",
   "metadata": {},
   "outputs": [
    {
     "data": {
      "text/html": [
       "<div>\n",
       "<style scoped>\n",
       "    .dataframe tbody tr th:only-of-type {\n",
       "        vertical-align: middle;\n",
       "    }\n",
       "\n",
       "    .dataframe tbody tr th {\n",
       "        vertical-align: top;\n",
       "    }\n",
       "\n",
       "    .dataframe thead th {\n",
       "        text-align: right;\n",
       "    }\n",
       "</style>\n",
       "<table border=\"1\" class=\"dataframe\">\n",
       "  <thead>\n",
       "    <tr style=\"text-align: right;\">\n",
       "      <th></th>\n",
       "      <th>index</th>\n",
       "      <th>Activity Period</th>\n",
       "      <th>Operating Airline</th>\n",
       "      <th>Operating Airline IATA Code</th>\n",
       "      <th>Published Airline</th>\n",
       "      <th>Published Airline IATA Code</th>\n",
       "      <th>GEO Summary</th>\n",
       "      <th>GEO Region</th>\n",
       "      <th>Activity Type Code</th>\n",
       "      <th>Price Category Code</th>\n",
       "      <th>Terminal</th>\n",
       "      <th>Boarding Area</th>\n",
       "      <th>Passenger Count</th>\n",
       "      <th>Adjusted Activity Type Code</th>\n",
       "      <th>Adjusted Passenger Count</th>\n",
       "      <th>Year</th>\n",
       "      <th>Month</th>\n",
       "    </tr>\n",
       "  </thead>\n",
       "  <tbody>\n",
       "  </tbody>\n",
       "</table>\n",
       "</div>"
      ],
      "text/plain": [
       "Empty DataFrame\n",
       "Columns: [index, Activity Period, Operating Airline, Operating Airline IATA Code, Published Airline, Published Airline IATA Code, GEO Summary, GEO Region, Activity Type Code, Price Category Code, Terminal, Boarding Area, Passenger Count, Adjusted Activity Type Code, Adjusted Passenger Count, Year, Month]\n",
       "Index: []"
      ]
     },
     "execution_count": 12,
     "metadata": {},
     "output_type": "execute_result"
    }
   ],
   "source": [
    "# Identify duplicates\n",
    "df_dups = df[df.duplicated()]\n",
    "df_dups"
   ]
  },
  {
   "cell_type": "code",
   "execution_count": 13,
   "id": "fc37a4da-35d8-4880-a525-433d2c54ed25",
   "metadata": {},
   "outputs": [],
   "source": [
    "# Check for mixed-type data\n",
    "for col in df.columns.tolist():\n",
    "  weird = (df[[col]].applymap(type) != df[[col]].iloc[0].apply(type)).any(axis = 1)\n",
    "  if len (df[weird]) > 0:\n",
    "    print (col)"
   ]
  },
  {
   "cell_type": "markdown",
   "id": "085141b9-fbaf-4b94-89a4-d8e2fec2ee6a",
   "metadata": {},
   "source": [
    "### 6. Export Cleaned Data"
   ]
  },
  {
   "cell_type": "code",
   "execution_count": 16,
   "id": "0d185bb4-878e-4e06-ab9f-1d6c9dde5154",
   "metadata": {},
   "outputs": [],
   "source": [
    "# Export data\n",
    "df.to_csv(os.path.join(path, '02 Data' , 'Prepared Data', 'air_pax_traffic_data_cleaned.csv'))"
   ]
  },
  {
   "cell_type": "code",
   "execution_count": null,
   "id": "76eb7703-2c73-409b-95e8-1417177b3768",
   "metadata": {},
   "outputs": [],
   "source": []
  }
 ],
 "metadata": {
  "kernelspec": {
   "display_name": "Python 3 (ipykernel)",
   "language": "python",
   "name": "python3"
  },
  "language_info": {
   "codemirror_mode": {
    "name": "ipython",
    "version": 3
   },
   "file_extension": ".py",
   "mimetype": "text/x-python",
   "name": "python",
   "nbconvert_exporter": "python",
   "pygments_lexer": "ipython3",
   "version": "3.9.13"
  }
 },
 "nbformat": 4,
 "nbformat_minor": 5
}
